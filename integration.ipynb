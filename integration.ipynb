{
 "cells": [
  {
   "cell_type": "code",
   "execution_count": 8,
   "metadata": {},
   "outputs": [],
   "source": [
    "# Trapezoid\n",
    "\n",
    "import numpy as np\n",
    "\n",
    "dx = 1\n",
    "\n",
    "a = np.arange(0, 10, dx)"
   ]
  },
  {
   "cell_type": "code",
   "execution_count": 7,
   "metadata": {},
   "outputs": [
    {
     "data": {
      "text/plain": [
       "array([ 0.        ,  0.84147098,  0.90929743,  0.14112001, -0.7568025 ,\n",
       "       -0.95892427, -0.2794155 ,  0.6569866 ,  0.98935825,  0.41211849])"
      ]
     },
     "execution_count": 7,
     "metadata": {},
     "output_type": "execute_result"
    }
   ],
   "source": [
    "def f(x):\n",
    "    return np.sin(x)\n",
    "\n",
    "f_a = f(a)\n",
    "f_a"
   ]
  },
  {
   "cell_type": "code",
   "execution_count": 16,
   "metadata": {},
   "outputs": [
    {
     "name": "stdout",
     "output_type": "stream",
     "text": [
      "0.42073549240394825\n",
      "1.2961196982207372\n",
      "1.8213284156635117\n",
      "1.5134871720394811\n",
      "0.6556237870539479\n",
      "0.03645390062291565\n",
      "0.22523945088284725\n",
      "1.0484118735539327\n",
      "1.749150239486502\n"
     ]
    }
   ],
   "source": [
    "sum = 0\n",
    "\n",
    "# sum = (dx/2)*(f(x_i) + f(x_i+1))\n",
    "for i in range(0, len(a) - 1):\n",
    "    sum += (dx/2)*(f_a[i] + f_a[i+1])\n",
    "    print(sum)"
   ]
  },
  {
   "cell_type": "code",
   "execution_count": 14,
   "metadata": {},
   "outputs": [
    {
     "data": {
      "text/plain": [
       "10"
      ]
     },
     "execution_count": 14,
     "metadata": {},
     "output_type": "execute_result"
    }
   ],
   "source": [
    "len(a)"
   ]
  },
  {
   "cell_type": "code",
   "execution_count": 24,
   "metadata": {},
   "outputs": [],
   "source": [
    "# Simpsons 1/3 rd method\n",
    "\n",
    "def simpboi13(f_a: np.array, dx: float):\n",
    "    return (dx/3)*(f_a[0] + f_a[-1] + 4*np.sum(f_a[1:-1:2]) + 2*np.sum(f_a[2:-1:2]))"
   ]
  },
  {
   "cell_type": "code",
   "execution_count": 25,
   "metadata": {},
   "outputs": [
    {
     "data": {
      "text/plain": [
       "1.619869037606611"
      ]
     },
     "execution_count": 25,
     "metadata": {},
     "output_type": "execute_result"
    }
   ],
   "source": [
    "simpboi13(f_a, dx)"
   ]
  },
  {
   "cell_type": "code",
   "execution_count": 31,
   "metadata": {},
   "outputs": [],
   "source": [
    "# Simpson's 3/8 method\n",
    "\n",
    "def simpboi38(f_a: np.array, dx: float):\n",
    "    return (3*dx/8)*(f_a[0] + f_a[-1] +  3*np.sum(f_a[1:-1:3]) + 3*np.sum(f_a[2:-1:3]) + 2*np.sum(f_a[3:-1:3]))"
   ]
  },
  {
   "cell_type": "code",
   "execution_count": 32,
   "metadata": {},
   "outputs": [
    {
     "data": {
      "text/plain": [
       "1.9423826122416323"
      ]
     },
     "execution_count": 32,
     "metadata": {},
     "output_type": "execute_result"
    }
   ],
   "source": [
    "simpboi38(f_a, dx)"
   ]
  },
  {
   "cell_type": "code",
   "execution_count": null,
   "metadata": {},
   "outputs": [],
   "source": []
  }
 ],
 "metadata": {
  "kernelspec": {
   "display_name": "Python 3",
   "language": "python",
   "name": "python3"
  },
  "language_info": {
   "codemirror_mode": {
    "name": "ipython",
    "version": 3
   },
   "file_extension": ".py",
   "mimetype": "text/x-python",
   "name": "python",
   "nbconvert_exporter": "python",
   "pygments_lexer": "ipython3",
   "version": "3.12.0"
  }
 },
 "nbformat": 4,
 "nbformat_minor": 2
}
