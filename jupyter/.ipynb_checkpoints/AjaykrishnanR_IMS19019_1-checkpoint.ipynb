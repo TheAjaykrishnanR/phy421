{
 "cells": [
  {
   "cell_type": "code",
   "execution_count": 15,
   "id": "0665d0a2-433a-4c07-bd8e-d4abece030a2",
   "metadata": {},
   "outputs": [],
   "source": [
    "class NODES:\n",
    "    N:int\n",
    "    dx:float\n",
    "    iters:int\n",
    "    state = {\"euler\":{}, \"rk2\":{}, \"rk3\":{}, \"rk4\":{}}\n",
    "    evolvers = {}\n",
    "    state_history = {\"euler\":{}, \"rk2\":{}, \"rk3\":{}, \"rk4\":{}}\n",
    "    errors = {\"euler\":[], \"rk2\":[], \"rk3\":[], \"rk4\":[]}\n",
    "    actual = []\n",
    "\n",
    "    def __init__(self, N, dx, iters, state, evolvers):\n",
    "        self.N = N\n",
    "        self.dx = dx\n",
    "        self.iters = iters\n",
    "\n",
    "        for method in self.state:\n",
    "            self.state[method] = state\n",
    "\n",
    "        self.evolvers = evolvers\n",
    "\n",
    "        for method in self.state_history:\n",
    "            self.state_history[method][\"x\"] = []\n",
    "            for i in range(0, self.N):\n",
    "                self.state_history[method][f\"y{i}\"] = []\n",
    "\n",
    "        for i in range(0, self.iters):\n",
    "            for method in self.state_history:\n",
    "                for yn in self.state_history[method]:\n",
    "                    self.state_history[method][yn].append(self.state[method][yn])\n",
    "\n",
    "            self.state[\"rk4\"] = self.rk4(self.state[\"rk4\"].copy())\n",
    "            self.state[\"euler\"] = self.euler(self.state[\"euler\"].copy())\n",
    "            self.state[\"rk3\"] = self.rk3(self.state[\"rk3\"].copy())\n",
    "\n",
    "    def rk3(self, state):\n",
    "        _temp = {}\n",
    "        G1, G2, G3 = {}, {}, {}\n",
    "        Gs = [G1, G2, G3]\n",
    "\n",
    "        for idx, Gi in enumerate(Gs):\n",
    "            if idx == 0:\n",
    "                Gsw = 0\n",
    "                _temp = {k:v for k,v in state.items() if k!=\"x\"}\n",
    "            if idx == 1:\n",
    "                Gsw = 0.5\n",
    "                _temp = {k:v + self.dx*Gsw*Gs[idx - 1][k] for k,v in state.items() if k!=\"x\"}\n",
    "            if idx == 2: \n",
    "                Gsw = 1\n",
    "                _temp = {k:v + self.dx*Gsw*(2*Gs[idx - 1][k] - Gs[idx - 2][k]) for k,v in state.items() if k!=\"x\"}\n",
    "            _temp[\"x\"] = state[\"x\"] + Gsw*self.dx\n",
    "\n",
    "            for yn in state:\n",
    "                exec(f\"{yn}={_temp[yn]}\")\n",
    "            for yn in state:\n",
    "                if yn != \"x\":\n",
    "                    Gi[yn] = eval(self.evolvers[yn])\n",
    "        for yn in state:\n",
    "            if yn == \"x\":\n",
    "                state[yn] += self.dx\n",
    "            else:\n",
    "                state[yn] += (self.dx/6)*(Gs[0][yn] + 4*Gs[1][yn] + Gs[2][yn])\n",
    "\n",
    "        return state\n",
    "    \n",
    "    def rk4(self, state):\n",
    "        _temp = {}\n",
    "        G1, G2, G3, G4 = {}, {}, {}, {}\n",
    "        Gs = [G1, G2, G3, G4]\n",
    "\n",
    "        for idx, Gi in enumerate(Gs):\n",
    "            if idx == 0:\n",
    "                Gsw = 0\n",
    "                _temp = {k:v for k,v in state.items() if k!=\"x\"}\n",
    "            else:\n",
    "                Gsw = 0.5\n",
    "                if idx == 4: Gsw = 1\n",
    "                _temp = {k:v + self.dx*Gsw*Gs[idx - 1][k] for k,v in state.items() if k!=\"x\"}\n",
    "            _temp[\"x\"] = state[\"x\"] + Gsw*self.dx\n",
    "\n",
    "            for yn in state:\n",
    "                exec(f\"{yn}={_temp[yn]}\")\n",
    "            for yn in state:\n",
    "                if yn != \"x\":\n",
    "                    Gi[yn] = eval(self.evolvers[yn])\n",
    "        for yn in state:\n",
    "            if yn == \"x\":\n",
    "                state[yn] += self.dx\n",
    "            else:\n",
    "                state[yn] += (self.dx/6)*(Gs[0][yn] + 2*Gs[1][yn] + 2*Gs[2][yn] + Gs[3][yn])\n",
    "\n",
    "        return state\n",
    "\n",
    "    def euler(self, state):\n",
    "        for yn in state:\n",
    "            exec(f\"{yn}=state[yn]\")\n",
    "        for yn in state:\n",
    "            if yn == \"x\":\n",
    "                state[yn] += self.dx\n",
    "            else:\n",
    "                state[yn] += self.dx*eval(self.evolvers[yn])\n",
    "        return state"
   ]
  },
  {
   "cell_type": "code",
   "execution_count": 16,
   "id": "9d1a67a2-41de-467c-a7aa-c8f7824c3016",
   "metadata": {},
   "outputs": [
    {
     "data": {
      "text/plain": [
       "<function matplotlib.pyplot.show(close=None, block=None)>"
      ]
     },
     "execution_count": 16,
     "metadata": {},
     "output_type": "execute_result"
    },
    {
     "data": {
      "image/png": "[encoded data removed]",
      "text/plain": [
       "<Figure size 640x480 with 1 Axes>"
      ]
     },
     "metadata": {},
     "output_type": "display_data"
    }
   ],
   "source": [
    "nodes = NODES(2, 0.1, 30, {\"x\":1, \"y0\":0, \"y1\":1}, {\"y0\": \"y1\", \"y1\":\"(2*y0/x)-(x*y1)\"})\n",
    "\n",
    "import matplotlib.pyplot as plt\n",
    "plt.plot(nodes.state_history[\"rk4\"][\"x\"], nodes.state_history[\"rk4\"][\"y0\"])\n",
    "#plt.plot(nodes.state_history[\"euler\"][\"x\"], nodes.state_history[\"euler\"][\"y0\"])\n",
    "plt.plot(nodes.state_history[\"rk3\"][\"x\"], nodes.state_history[\"rk3\"][\"y0\"])\n",
    "\n",
    "plt.show"
   ]
  },
  {
   "cell_type": "code",
   "execution_count": null,
   "id": "0753615f-5c1c-4a5b-94d4-f51510570240",
   "metadata": {},
   "outputs": [],
   "source": []
  }
 ],
 "metadata": {
  "kernelspec": {
   "display_name": "Python 3 (ipykernel)",
   "language": "python",
   "name": "python3"
  },
  "language_info": {
   "codemirror_mode": {
    "name": "ipython",
    "version": 3
   },
   "file_extension": ".py",
   "mimetype": "text/x-python",
   "name": "python",
   "nbconvert_exporter": "python",
   "pygments_lexer": "ipython3",
   "version": "3.12.0"
  }
 },
 "nbformat": 4,
 "nbformat_minor": 5
}
