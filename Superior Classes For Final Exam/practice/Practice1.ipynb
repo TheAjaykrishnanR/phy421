{
 "cells": [
  {
   "cell_type": "code",
   "execution_count": null,
   "id": "acabcd3d-13db-4826-ae65-2a9709a30116",
   "metadata": {},
   "outputs": [],
   "source": [
    "import numpy as np\n",
    "\n",
    "class PDE_Heat:\n",
    "\n",
    "    def __init__(self, a, b, nx, t_final, sigma, D, boundary_conds):\n",
    "\n",
    "        self.a = a\n",
    "        self.b = b\n",
    "        self.nx = nx\n",
    "        self.t_final = t_final\n",
    "        self.sigma = sigma\n",
    "        self.D = D\n",
    "        self.boundary_conds = boundary_conds\n",
    "\n",
    "        self.no_of_panels_x = nx + 1\n",
    "        self.total_no_of_points_x = nx + 2\n",
    "\n",
    "        self.dx = (self.b - self.a)/self.no_of_panels\n",
    "        self.dt = (sigma/D)*self.dx**2\n",
    "\n",
    "        self.x = np.linspace(self.a, self.b, self.total_no_of_points)\n",
    "        self.t = np.arange(0, t_final, self.dt)\n",
    "\n",
    "        self.total_no_of_points_t = len(self.t)\n",
    "\n",
    "        self.x_t0, self.t_xa, self.t_xb = boundary_conds\n",
    "\n",
    "    def createW(self):\n",
    "        W = np.zeros((self.total_no_of_points_t, self.total_no_of_points_x))\n",
    "        W[0,1:-1] = self.x_t0(np.linspace(self.a, self.b, self.nx))\n",
    "        W[:,0] = self.t_xa(self.t)\n",
    "        W[:,-1] = self.t_xb(self.b)\n",
    "\n",
    "        return W\n",
    "\n",
    "    def createForwardA(self):\n",
    "        m = self.total_no_of_points_x\n",
    "        A = np.zeros((m,m))\n",
    "\n",
    "        j_ind_low = np.arange(0, m-2, 1)\n",
    "        i_ind = np.arange(1, m-1, 1)\n",
    "        j_ind_high = np.arange(2, m, 1)\n",
    "\n",
    "        \n",
    "\n",
    "    def createBackwardA(self):\n",
    "        pass\n",
    "\n",
    "    def forward(self):\n",
    "        pass\n",
    "    \n",
    "    def backward(self):\n",
    "        pass"
   ]
  }
 ],
 "metadata": {
  "kernelspec": {
   "display_name": "Python 3 (ipykernel)",
   "language": "python",
   "name": "python3"
  },
  "language_info": {
   "codemirror_mode": {
    "name": "ipython",
    "version": 3
   },
   "file_extension": ".py",
   "mimetype": "text/x-python",
   "name": "python",
   "nbconvert_exporter": "python",
   "pygments_lexer": "ipython3",
   "version": "3.12.0"
  }
 },
 "nbformat": 4,
 "nbformat_minor": 5
}
