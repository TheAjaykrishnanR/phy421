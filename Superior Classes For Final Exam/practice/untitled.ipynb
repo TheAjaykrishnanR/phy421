{
 "cells": [
  {
   "cell_type": "code",
   "execution_count": 21,
   "metadata": {},
   "outputs": [
    {
     "name": "stdout",
     "output_type": "stream",
     "text": [
      "(1.9833547618570557, 0.016645238142944274)\n",
      "(1.973980231305464, 0.02601976869453604)\n"
     ]
    }
   ],
   "source": [
    "import numpy as np\n",
    "from typing import Callable\n",
    "\n",
    "class Integrators:\n",
    "\n",
    "    a: float\n",
    "    b: float\n",
    "    dx: float\n",
    "    f: Callable[[np.array],np.array]\n",
    "    x: np.array\n",
    "    fx: np.array\n",
    "\n",
    "    def __init__(self, a, b, dx, f, av=None):\n",
    "        self.a = a\n",
    "        self.b = b\n",
    "        self.dx = dx\n",
    "        self.f = f\n",
    "        self.x = np.arange(a,b,dx)\n",
    "        self.fx = self.f(self.x)\n",
    "        self.av = av\n",
    "\n",
    "    def trapezoid(self):\n",
    "        result = 0\n",
    "        for i in range(0, len(self.x) - 1):\n",
    "            result += (self.dx/2)*(self.fx[i] + self.fx[i+1])\n",
    "        return result, self.error(result)\n",
    "    \n",
    "    def simpsons13(self):\n",
    "        result = (self.dx/3)*(self.fx[0] + self.fx[-1] + 4*np.sum(self.fx[1:-1:2]) + 2*np.sum(self.fx[2:-1:2]))\n",
    "        return result, self.error(result)\n",
    "    \n",
    "    def error(self, result):\n",
    "        if self.av != None:\n",
    "            error = self.av - result\n",
    "            return error\n",
    "    \n",
    "I = Integrators(0,np.pi,0.2,lambda x: np.sin(x), 2)\n",
    "print(I.trapezoid())\n",
    "print(I.simpsons13())"
   ]
  },
  {
   "cell_type": "code",
   "execution_count": 29,
   "metadata": {},
   "outputs": [
    {
     "name": "stdout",
     "output_type": "stream",
     "text": [
      "0.17453292519943295\n",
      "1.994920463583452\n",
      "0.005079536416547903\n"
     ]
    }
   ],
   "source": [
    "import numpy as np\n",
    "\n",
    "a = 0\n",
    "b = np.pi\n",
    "n = 19\n",
    "h = (b - a) / (n - 1)\n",
    "x = np.linspace(a, b, n)\n",
    "f = np.sin(x)\n",
    "\n",
    "I_trap = (h/2)*(f[0] + \\\n",
    "          2 * sum(f[1:n-1]) + f[n-1])\n",
    "err_trap = 2 - I_trap\n",
    "\n",
    "print(h)\n",
    "print(I_trap)\n",
    "print(err_trap)"
   ]
  },
  {
   "cell_type": "code",
   "execution_count": 33,
   "metadata": {},
   "outputs": [
    {
     "name": "stdout",
     "output_type": "stream",
     "text": [
      "0.3141592653589793\n",
      "11\n",
      "2.0001095173150043\n",
      "-0.00010951731500430384\n"
     ]
    }
   ],
   "source": [
    "import numpy as np\n",
    "\n",
    "a = 0\n",
    "b = np.pi\n",
    "n = 11\n",
    "h = (b - a) / (n - 1)\n",
    "x = np.linspace(a, b, n)\n",
    "f = np.sin(x)\n",
    "\n",
    "I_simp = (h/3) * (f[0] + 2*sum(f[:n-2:2]) \\\n",
    "            + 4*sum(f[1:n-1:2]) + f[n-1])\n",
    "err_simp = 2 - I_simp\n",
    "\n",
    "print(h)\n",
    "print(len(x))\n",
    "\n",
    "print(I_simp)\n",
    "print(err_simp)"
   ]
  }
 ],
 "metadata": {
  "kernelspec": {
   "display_name": "Python 3",
   "language": "python",
   "name": "python3"
  },
  "language_info": {
   "codemirror_mode": {
    "name": "ipython",
    "version": 3
   },
   "file_extension": ".py",
   "mimetype": "text/x-python",
   "name": "python",
   "nbconvert_exporter": "python",
   "pygments_lexer": "ipython3",
   "version": "3.12.0"
  }
 },
 "nbformat": 4,
 "nbformat_minor": 2
}
