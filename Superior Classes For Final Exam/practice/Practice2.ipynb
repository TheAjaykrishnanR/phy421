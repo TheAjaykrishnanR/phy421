{
 "cells": [
  {
   "cell_type": "code",
   "execution_count": 1,
   "id": "3a483ed6-492c-490b-b5a3-e03634012ddd",
   "metadata": {},
   "outputs": [
    {
     "name": "stdout",
     "output_type": "stream",
     "text": [
      "1.9835235375094546\n",
      "2.0001095173150043\n",
      "2.650273329751086\n"
     ]
    }
   ],
   "source": [
    "# Integration\n",
    "\n",
    "import numpy as np\n",
    "\n",
    "class Integrators:\n",
    "\n",
    "    def __init__(self, a, b, n, f):\n",
    "        self.a = a\n",
    "        self.b = b\n",
    "        self.n = n\n",
    "        self.f = f\n",
    "\n",
    "        self.no_of_panels = n + 1\n",
    "        self.total_no_of_points = n + 2\n",
    "\n",
    "        self.dx = (self.b - self.a)/self.no_of_panels\n",
    "\n",
    "        self.x = np.linspace(self.a, self.b, self.total_no_of_points)\n",
    "\n",
    "        self.fx = self.f(self.x)\n",
    "\n",
    "    def trapezoid(self):\n",
    "        return (self.dx/2)*(self.fx[0] + self.fx[-1] + 2*np.sum(self.fx[1:-1]))\n",
    "\n",
    "    def simpsons13(self):\n",
    "        return (self.dx/3)*(self.fx[0] + self.fx[-1] + 4*np.sum(self.fx[1:-1:2]) + 2*np.sum(self.fx[2:-1:2]))\n",
    "\n",
    "    def simpsons38(self):\n",
    "        return (self.dx/2)*(self.fx[0] + self.fx[-1] + 3*np.sum(self.fx[1:-1:3]) + 3*np.sum(self.fx[2:-1:3]) + 2*np.sum(self.fx[3:-1:3]))\n",
    "\n",
    "I = Integrators(0,np.pi,9,lambda x: np.sin(x))\n",
    "print(I.trapezoid())\n",
    "print(I.simpsons13())\n",
    "print(I.simpsons38())\n",
    "\n",
    "# finished in 05:57"
   ]
  },
  {
   "cell_type": "code",
   "execution_count": null,
   "id": "266b4d07-55a5-4e87-9068-836ea331c6a9",
   "metadata": {},
   "outputs": [],
   "source": [
    "import numpy as np\n",
    "\n",
    "class PDE_Heat:\n",
    "\n",
    "    def __init__(self, a, b, nx, t_final, sigma, D, boundary_conds):\n",
    "        self.a = a\n",
    "        self.b = b\n",
    "        self.nx = nx\n",
    "        self.t_final = t_final\n",
    "        self.sigma = sigma\n",
    "        self.D = D\n",
    "        self.boundary_conds = boundary_conds\n",
    "\n",
    "        self.no_of_panels_x = nx + 1\n",
    "        self.total_no_of_points_x = nx + 2\n",
    "\n",
    "        self.dx = (self.b - self.a)/self.no_of_panels\n",
    "        self.dt = (sigma/D)*self.dx**2\n",
    "\n",
    "        self.x = np.linspace(self.a, self.b, self.total_no_of_points_x)\n",
    "        self.t = np.arange(0, self.t_final, self.dt)\n",
    "\n",
    "        self.total_no_of_points_t = len(self.t)\n",
    "        \n",
    "        self.x_t0, self.t_xa, self.t_xb = self.boundary_conds\n",
    "\n",
    "    def createW(self):\n",
    "        W = np.zeros((self.total_no_of_points_t, self.total_no_of_points_x))\n",
    "        W[1:-1] = self.x_t0(self.x[1:-1])\n",
    "        W[:,0] = self.t_xa(self.t)\n",
    "        W[:,-1] = self.t_xb(self.t)\n",
    "\n",
    "        return W\n",
    "\n",
    "    def createForwardA(self):\n",
    "        m = \n",
    "\n",
    "    def createBackwardA(self):\n",
    "        pass\n",
    "    \n",
    "    def forward(self):\n",
    "        pass\n",
    "    \n",
    "    def backward(self):\n",
    "        pass"
   ]
  }
 ],
 "metadata": {
  "kernelspec": {
   "display_name": "Python 3 (ipykernel)",
   "language": "python",
   "name": "python3"
  },
  "language_info": {
   "codemirror_mode": {
    "name": "ipython",
    "version": 3
   },
   "file_extension": ".py",
   "mimetype": "text/x-python",
   "name": "python",
   "nbconvert_exporter": "python",
   "pygments_lexer": "ipython3",
   "version": "3.12.0"
  }
 },
 "nbformat": 4,
 "nbformat_minor": 5
}
