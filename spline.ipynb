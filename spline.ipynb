{
 "cells": [
  {
   "cell_type": "code",
   "execution_count": 1,
   "metadata": {},
   "outputs": [
    {
     "name": "stdout",
     "output_type": "stream",
     "text": [
      "example A:\n",
      "points: \n",
      "(1.0,2.0) (2.0,3.0) (3.0,5.0) \n",
      "Cubic spline interpolation:\n",
      "[1.0,2.0] f(x) = 0.25(x-1.0)^3 + 0.75(x-1.0) + 2.0\n",
      "[2.0,3.0] f(x) = -0.25(x-2.0)^3 + 0.75(x-2.0)^2 + 1.5(x-2.0) + 3.0\n",
      "\n",
      "example B:\n",
      "points: \n",
      "(1.0,0.0) (2.0,1.0) (3.0,0.0) (4.0,1.0) (5.0,0.0) \n",
      "Cubic spline interpolation:\n",
      "[1.0,2.0] f(x) = -0.5(x-1.0)^3 + 1.5(x-1.0)\n",
      "[2.0,3.0] f(x) = 1.0(x-2.0)^3 - 1.5(x-2.0)^2 - 0.5(x-2.0) + 1.0\n",
      "[3.0,4.0] f(x) = -1.0(x-3.0)^3 + 1.5(x-3.0)^2 + 0.5(x-3.0)\n",
      "[4.0,5.0] f(x) = 0.5(x-4.0)^3 - 1.5(x-4.0)^2 + 1.0\n",
      "\n"
     ]
    }
   ],
   "source": [
    "# ______________________________________________________________________________________________________________\n",
    "# Cubic Spline Interpolation\n",
    "# ______________________________________________________________________________________________________________\n",
    "# In general form, Cubic Spline Interpolation takes N points: (x0,y0), (x1, y1), (x2, y2)\n",
    "# and calculate N-1 functions S0(x), S1(x).. with the following form:\n",
    "# si(x) = ai + bi(x-xi) + ci(x-xi)^2 + di(x-xi)^3, for x in rage [xi,yi]\n",
    "# in the program we will calculate the coefficients = [ a0,a1,a2..., b0,b1,b2..., c0, c1,c2... , d0,d1,d2...]\n",
    "# \n",
    "# ______________________________________________________________________________________________________________\n",
    "\n",
    "\n",
    "# simple class to store points (x,y)\n",
    "class Point:\n",
    "    def __init__(self,x,y):\n",
    "        self.x = float(x)\n",
    "        self.y = float(y)\n",
    "\n",
    "# receives array of points, and return cubic spline coefficients\n",
    "def Spline(points):\n",
    "    N   = len(points)-1\n",
    "    h   =     [(points[i+1].x-points[i].x)      for i in range(N)]          # delta x\n",
    "    b   =     [(points[i+1].y-points[i].y)/h[i] for i in range(N)]          # delta y / delta x\n",
    "    ftt = [0]+[3*(b[i+1]-b[i])/(h[i+1]+h[i])    for i in range(N-1)]+[0]    # f''(x) = 0 for first and last element, for the rest: 3*(b(i+1)-bi)/(h(i+1)+hi)\n",
    "    A   =     [(ftt[i+1]-ftt[i])/(6*h[i])       for i in range(N)]          # calc a0,a1,..\n",
    "    B   =     [ftt[i]/2                         for i in range(N)]          # calc b0,b1...\n",
    "    C   =     [b[i]-h[i]*(ftt[i+1]+2*ftt[i])/6  for i in range(N)]          # calc c0,c1...\n",
    "    D   =     [points[i].y                      for i in range(N)]          # calc d0,d1...\n",
    "    return A,B,C,D\n",
    "\n",
    "\n",
    "# receives points and Spline coefficients and print the functions\n",
    "def PrintSpline(points,A,B,C,D):\n",
    "    for i in range(len(points)-1):\n",
    "        func = '[' + str(points[i].x) + ',' + str(points[i+1].x) + '] f(x) = '\n",
    "        components = []\n",
    "        if A[i]:\n",
    "            components.append(str(A[i])+'(x-'+str(points[i].x)+')^3')\n",
    "        if B[i]:\n",
    "            components.append(str(B[i])+'(x-'+str(points[i].x)+')^2')\n",
    "        if C[i]:\n",
    "            components.append(str(C[i])+'(x-'+str(points[i].x)+')')\n",
    "        if D[i]:\n",
    "            components.append(str(D[i]))\n",
    "        if components:\n",
    "            func += components[0]\n",
    "            for i in range (1,len(components)):\n",
    "                if components[i][0] == '-':\n",
    "                    func += ' - '+components[i][1:]\n",
    "                else:\n",
    "                    func += ' + '+components[i]\n",
    "            print(func)\n",
    "        else:\n",
    "            print(func+'0')\n",
    "\n",
    "\n",
    "def run_example(points):\n",
    "    print(\"points: \")\n",
    "    points = [Point(x,y) for x,y in points]\n",
    "    for point in points:\n",
    "        print(\"(\" + str(point.x) + \",\" + str(point.y) + \")\", end = \" \")\n",
    "    print(\"\")\n",
    "    print(\"Cubic spline interpolation:\")\n",
    "    A,B,C,D = Spline(points)\n",
    "    PrintSpline(points,A,B,C,D)\n",
    "    print(\"\")\n",
    "\n",
    "# Example A\n",
    "print(\"example A:\")\n",
    "run_example([(1,2),(2,3),(3,5)])\n",
    "\n",
    "# Example B\n",
    "print(\"example B:\")\n",
    "run_example([(1,0),(2,1),(3,0),(4,1),(5,0)])"
   ]
  },
  {
   "cell_type": "code",
   "execution_count": 2,
   "metadata": {},
   "outputs": [
    {
     "name": "stdout",
     "output_type": "stream",
     "text": [
      "points: \n",
      "(-1.0,-0.49999999999999994) (1.0,0.49999999999999994) (3.0,1.0) (5.0,0.49999999999999994) \n",
      "Cubic spline interpolation:\n",
      "[-1.0,1.0] f(x) = -0.015624999999999995(x--1.0)^3 + 0.5624999999999999(x--1.0) - 0.49999999999999994\n",
      "[1.0,3.0] f(x) = -0.015625000000000003(x-1.0)^3 - 0.09374999999999997(x-1.0)^2 + 0.5(x-1.0) + 0.49999999999999994\n",
      "[3.0,5.0] f(x) = 0.03125(x-3.0)^3 - 0.1875(x-3.0)^2 + 1.0\n",
      "\n"
     ]
    }
   ],
   "source": [
    "import numpy as np\n",
    "def f(x):\n",
    "    return np.sin(np.pi*x/6)\n",
    "run_example([(-1,f(-1)),(1,f(1)),(3,f(3)),(5,f(5))])"
   ]
  },
  {
   "cell_type": "code",
   "execution_count": 8,
   "metadata": {},
   "outputs": [
    {
     "data": {
      "text/plain": [
       "<function matplotlib.pyplot.show(close=None, block=None)>"
      ]
     },
     "execution_count": 8,
     "metadata": {},
     "output_type": "execute_result"
    },
    {
     "data": {
      "image/png": "[encoded data removed]",
      "text/plain": [
       "<Figure size 640x480 with 1 Axes>"
      ]
     },
     "metadata": {},
     "output_type": "display_data"
    }
   ],
   "source": [
    "import matplotlib.pyplot as plt\n",
    "\n",
    "x1 = np.arange(-1,1,0.1)\n",
    "def f1(x):\n",
    "    return -0.015624999999999995*(x + 1.0)**3 + 0.5624999999999999*(x + 1.0) - 0.49999999999999994\n",
    "\n",
    "plt.plot(x1, f(x1))\n",
    "plt.plot(x1, f1(x1))\n",
    "plt.show"
   ]
  },
  {
   "cell_type": "code",
   "execution_count": null,
   "metadata": {},
   "outputs": [],
   "source": []
  }
 ],
 "metadata": {
  "kernelspec": {
   "display_name": "Python 3",
   "language": "python",
   "name": "python3"
  },
  "language_info": {
   "codemirror_mode": {
    "name": "ipython",
    "version": 3
   },
   "file_extension": ".py",
   "mimetype": "text/x-python",
   "name": "python",
   "nbconvert_exporter": "python",
   "pygments_lexer": "ipython3",
   "version": "3.12.0"
  }
 },
 "nbformat": 4,
 "nbformat_minor": 2
}
